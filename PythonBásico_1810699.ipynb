{
 "cells": [
  {
   "cell_type": "code",
   "execution_count": 65,
   "metadata": {},
   "outputs": [
    {
     "name": "stdout",
     "output_type": "stream",
     "text": [
      "7\n"
     ]
    },
    {
     "data": {
      "text/plain": [
       "int"
      ]
     },
     "execution_count": 65,
     "metadata": {},
     "output_type": "execute_result"
    }
   ],
   "source": [
    "'>>>>>>>Vanessa Ortiz de la Rosa<<<<<<<<<<'\n",
    "'>>>>>>>>Matricula: 1810699<<<<<<<<<<<<<<<'\n",
    "'>>>>>>>>>>>>>>>>>>>>Ejercicio Tuplas<<<<<<<<<<<<<<<<<<<'\n",
    "entero = 7\n",
    "print(entero)\n",
    "type(entero)"
   ]
  },
  {
   "cell_type": "code",
   "execution_count": 56,
   "metadata": {},
   "outputs": [
    {
     "name": "stdout",
     "output_type": "stream",
     "text": [
      "7.5\n"
     ]
    },
    {
     "data": {
      "text/plain": [
       "float"
      ]
     },
     "execution_count": 56,
     "metadata": {},
     "output_type": "execute_result"
    }
   ],
   "source": [
    "real= 7.5\n",
    "print(real)\n",
    "type(real)"
   ]
  },
  {
   "cell_type": "code",
   "execution_count": 57,
   "metadata": {},
   "outputs": [
    {
     "name": "stdout",
     "output_type": "stream",
     "text": [
      "(3.7+6.7j)\n"
     ]
    },
    {
     "data": {
      "text/plain": [
       "complex"
      ]
     },
     "execution_count": 57,
     "metadata": {},
     "output_type": "execute_result"
    }
   ],
   "source": [
    "complejo= 3.7+6.7j\n",
    "print(complejo)\n",
    "type(complejo)"
   ]
  },
  {
   "cell_type": "code",
   "execution_count": 64,
   "metadata": {},
   "outputs": [
    {
     "data": {
      "text/plain": [
       "bool"
      ]
     },
     "execution_count": 64,
     "metadata": {},
     "output_type": "execute_result"
    }
   ],
   "source": [
    "t= True\n",
    "type(t)"
   ]
  },
  {
   "cell_type": "code",
   "execution_count": 62,
   "metadata": {},
   "outputs": [
    {
     "name": "stdout",
     "output_type": "stream",
     "text": [
      "5 10\n"
     ]
    }
   ],
   "source": [
    "tupla = (5, 7, 10)\n",
    "type(tupla)\n",
    "print(tupla[0],tupla[2])"
   ]
  },
  {
   "cell_type": "code",
   "execution_count": 51,
   "metadata": {},
   "outputs": [
    {
     "data": {
      "text/plain": [
       "(5, 7, 10, 'hola', 'que tal', 'como estas')"
      ]
     },
     "execution_count": 51,
     "metadata": {},
     "output_type": "execute_result"
    }
   ],
   "source": [
    "tupla = list(tupla)\n",
    "tupla.append(\"hola\")\n",
    "tupla.append(\"que tal\")\n",
    "tupla.append(\"como estas\")\n",
    "tupla = tuple(tupla)\n",
    "tupla"
   ]
  },
  {
   "cell_type": "code",
   "execution_count": 53,
   "metadata": {},
   "outputs": [
    {
     "data": {
      "text/plain": [
       "False"
      ]
     },
     "execution_count": 53,
     "metadata": {},
     "output_type": "execute_result"
    }
   ],
   "source": [
    "10 in tupla\n",
    "\"Hola\" in tupla"
   ]
  },
  {
   "cell_type": "code",
   "execution_count": 50,
   "metadata": {
    "scrolled": true
   },
   "outputs": [
    {
     "name": "stdout",
     "output_type": "stream",
     "text": [
      "[17, 25, 73, 46, 23, 61, 80, 83, 63, 15, 69, 11, 2, 70, 97, 92, 97, 84, 91, 22, 86, 82, 37, 92, 35, 88, 54, 35, 47, 12, 23, 71, 53, 25, 67, 50, 5, 77, 73, 36]\n"
     ]
    }
   ],
   "source": [
    "'>>>>>>>>>>>>>>>>>>>>Ejercicio Listas<<<<<<<<<<<<<<<<<<<'\n",
    "import random\n",
    "b=[ ]\n",
    "for i in range(40):\n",
    "    b.insert(i, random.randint(0, 100))\n",
    "print(b)"
   ]
  },
  {
   "cell_type": "code",
   "execution_count": 250,
   "metadata": {},
   "outputs": [],
   "source": [
    "def CLASIFICAR(lista):\n",
    "    k=0\n",
    "    validador=0\n",
    "    par=[ ]\n",
    "    impar=[ ]\n",
    "    for number in lista:\n",
    "        k= number/2\n",
    "        if number % 2==0:\n",
    "            par.append(number)\n",
    "        else:\n",
    "            impar.append(number)      \n",
    "    long1= len(par)\n",
    "    long2= len(impar)\n",
    "    print(\"Longitud lista par: \", long1, \"Longitud lista impar: \", long2)\n",
    "    impar.sort()\n",
    "    print(impar)\n",
    "    par.sort()\n",
    "    par.reverse()\n",
    "    print(par)"
   ]
  },
  {
   "cell_type": "code",
   "execution_count": 251,
   "metadata": {},
   "outputs": [
    {
     "name": "stdout",
     "output_type": "stream",
     "text": [
      "Longitud lista par:  18 Longitud lista impar:  22\n",
      "[5, 9, 17, 23, 25, 27, 31, 31, 33, 43, 43, 51, 53, 53, 57, 69, 77, 81, 85, 85, 99, 99]\n",
      "[88, 86, 82, 74, 62, 56, 56, 50, 48, 46, 30, 28, 28, 20, 16, 16, 14, 6]\n"
     ]
    }
   ],
   "source": [
    "CLASIFICAR(b)"
   ]
  },
  {
   "cell_type": "markdown",
   "metadata": {},
   "source": [
    "LongitudPar= len(par)\n",
    "print(LongitudPar)"
   ]
  },
  {
   "cell_type": "code",
   "execution_count": 252,
   "metadata": {},
   "outputs": [
    {
     "name": "stdout",
     "output_type": "stream",
     "text": [
      "12\n",
      "2\n",
      "[28, 33, 81, 77, 9, 69, 62, 53, 50, 99, 82, 43, 74, 56, 85, 17, 88, 31, 5, 46, 56, 85, 16, 27, 51, 28, 25, 30, 20, 43, 99, 23, 14, 57, 16, 53, 86, 31, 48]\n",
      "[8, 28, 33, 81, 77, 9, 69, 62, 53, 50, 99, 82, 43, 74, 56, 85, 17, 88, 31, 5, 46, 56, 85, 16, 27, 51, 28, 25, 30, 20, 43, 99, 23, 14, 57, 16, 53, 86, 31, 48]\n"
     ]
    }
   ],
   "source": [
    "'indice de un elemento'\n",
    "print(b.index(43))\n",
    "'Cuantas veces aparece un elemento'\n",
    "print(b.count(43))\n",
    "'Remover elementos'\n",
    "b.remove(6)\n",
    "print(b)\n",
    "'Remplaza la posicion indicada, con el elemento escrito'\n",
    "b.insert(0, 8)\n",
    "print(b)"
   ]
  },
  {
   "cell_type": "code",
   "execution_count": 272,
   "metadata": {},
   "outputs": [],
   "source": [
    "'>>>>>>>Ejercicio Diccionarios<<<<<<<'\n",
    "diccionario = {'nombre' : ['Vanessa', 'Iram', 'Alejandro','Yazmin','Monica','Alicia'], 'edad' :[20,20,23,14,23,30] } "
   ]
  },
  {
   "cell_type": "code",
   "execution_count": 273,
   "metadata": {},
   "outputs": [
    {
     "name": "stdout",
     "output_type": "stream",
     "text": [
      "[14, 20, 20, 23, 23, 30]\n"
     ]
    }
   ],
   "source": [
    "edades= [ ]\n",
    "i=0\n",
    "while i < 6:\n",
    "    elemento= diccionario['edad'][i]\n",
    "    edades.append(elemento)\n",
    "    i=i+1\n",
    "\n",
    "edades.sort()\n",
    "print(edades)"
   ]
  },
  {
   "cell_type": "code",
   "execution_count": 274,
   "metadata": {},
   "outputs": [
    {
     "name": "stdout",
     "output_type": "stream",
     "text": [
      "Vanessa\n",
      "Iram\n",
      "Alejandro\n",
      "Yazmin\n",
      "Monica\n",
      "Alicia\n"
     ]
    }
   ],
   "source": [
    "i=0\n",
    "while i < 6: \n",
    "    print(diccionario['nombre'][i])\n",
    "    i=i+1"
   ]
  },
  {
   "cell_type": "code",
   "execution_count": 275,
   "metadata": {},
   "outputs": [
    {
     "name": "stdout",
     "output_type": "stream",
     "text": [
      "[20, 20, 23, 14, 23, 30]\n",
      "['Vanessa', 'Iram', 'Alejandro', 'Yazmin', 'Monica', 'Alicia']\n"
     ]
    }
   ],
   "source": [
    "edades= [ ]\n",
    "nombres= [ ]\n",
    "i=0\n",
    "while i < 6:\n",
    "    elemento_Edad= diccionario['edad'][i]\n",
    "    elemento_Nombre=diccionario['nombre'][i]\n",
    "    edades.append(elemento_Edad)\n",
    "    nombres.append(elemento_Nombre)\n",
    "    i=i+1\n",
    "\n",
    "print(edades)\n",
    "print(nombres)"
   ]
  },
  {
   "cell_type": "code",
   "execution_count": 276,
   "metadata": {},
   "outputs": [],
   "source": [
    "nombres.append('Monserrat')\n",
    "edades.append(17)\n",
    "nombres.append('Rogelio')\n",
    "edades.append(22)"
   ]
  },
  {
   "cell_type": "code",
   "execution_count": 277,
   "metadata": {},
   "outputs": [],
   "source": [
    "diccionario= {'nombre' : nombres, 'edad' :edades }"
   ]
  },
  {
   "cell_type": "code",
   "execution_count": 278,
   "metadata": {},
   "outputs": [
    {
     "name": "stdout",
     "output_type": "stream",
     "text": [
      "{'nombre': ['Vanessa', 'Iram', 'Alejandro', 'Yazmin', 'Monica', 'Alicia', 'Monserrat', 'Rogelio'], 'edad': [20, 20, 23, 14, 23, 30, 17, 22]}\n"
     ]
    }
   ],
   "source": [
    "print(diccionario)"
   ]
  },
  {
   "cell_type": "code",
   "execution_count": 17,
   "metadata": {},
   "outputs": [
    {
     "name": "stdout",
     "output_type": "stream",
     "text": [
      "[11, 14, 21, 3, 5, 17, 10, 15, 7, 18, 3, 23, 5, 19, 4, 19, 5, 22, 14, 7, 9, 25, 25, 24, 16, 20, 14, 21, 7, 22, 3, 1, 17, 8, 10, 15, 17, 14, 16, 19, 6, 14, 11, 5, 3, 3, 13, 9, 25, 24, 3, 19, 24, 1, 6, 18, 2, 7, 9, 16, 16, 23, 7, 25, 13, 12, 12, 12, 23, 24, 2, 2, 19, 17, 2, 1, 13, 25, 7, 3, 2, 4, 6, 22, 25, 19, 10, 3, 14, 1, 17, 5, 21, 1, 16, 15, 24, 24, 8, 20]\n",
      "{1, 2, 3, 4, 5, 6, 7, 8, 9, 10, 11, 12, 13, 14, 15, 16, 17, 18, 19, 20, 21, 22, 23, 24, 25}\n"
     ]
    },
    {
     "data": {
      "text/plain": [
       "25"
      ]
     },
     "execution_count": 17,
     "metadata": {},
     "output_type": "execute_result"
    }
   ],
   "source": [
    "'>>>>>>>Ejercicios Seats<<<<<\n",
    "import random\n",
    "b=[ ]\n",
    "i=0\n",
    "for i in range(100):\n",
    "    b.insert(i, random.randint(1, 25))\n",
    "    \n",
    "print(b)\n",
    "aleatorios= set(b)\n",
    "print(aleatorios)\n",
    "len(aleatorios)"
   ]
  },
  {
   "cell_type": "code",
   "execution_count": 34,
   "metadata": {},
   "outputs": [
    {
     "name": "stdout",
     "output_type": "stream",
     "text": [
      "[6, 10, 5, 3, 5]\n"
     ]
    }
   ],
   "source": [
    "lista=[ ]\n",
    "i=0\n",
    "for i in range(5):\n",
    "    lista.insert(i, random.randint(1, 10))\n",
    "    \n",
    "print(lista)"
   ]
  },
  {
   "cell_type": "code",
   "execution_count": 49,
   "metadata": {},
   "outputs": [
    {
     "name": "stdout",
     "output_type": "stream",
     "text": [
      "El numero:  6 existe en aleatorios\n",
      "El numero:  10 existe en aleatorios\n",
      "El numero:  5 existe en aleatorios\n",
      "El numero:  3 existe en aleatorios\n",
      "El numero:  5 existe en aleatorios\n"
     ]
    }
   ],
   "source": [
    "i=0\n",
    "while i < 5:\n",
    "    if lista[i] in aleatorios:\n",
    "        print(\"El numero: \", lista[i], \"existe en aleatorios\")\n",
    "    else:\n",
    "        print(\"El número: \",lista[i], \"no existe en aleatorios\")   \n",
    "    i=i+1"
   ]
  },
  {
   "cell_type": "code",
   "execution_count": 1,
   "metadata": {},
   "outputs": [
    {
     "name": "stdout",
     "output_type": "stream",
     "text": [
      "Vanessa 1810699\n"
     ]
    }
   ],
   "source": [
    "'>>>>>>>>>Ejercicio 1<<<<<<<<<<<'\n",
    "matricula= 1810699\n",
    "print(\"Vanessa\", matricula)"
   ]
  },
  {
   "cell_type": "code",
   "execution_count": 10,
   "metadata": {},
   "outputs": [
    {
     "name": "stdout",
     "output_type": "stream",
     "text": [
      "\t Calculadora \t\n",
      "\n",
      "A continuacion se presenta el menu de operaciones: \n",
      "\n",
      "1-Suma(a+b) \n",
      " 2-Resta(a-b) \n",
      " 3-Multiplicacion(a*b) \n",
      " 4-Division(a/b) \n",
      " 5-Potencia(a**b) \n",
      " 6-Salir\n"
     ]
    }
   ],
   "source": [
    "'>>>>>>>>>Ejercicio 2<<<<<<<<<<<'\n",
    "op=0\n",
    "res=0\n",
    "print(\"\\t Calculadora \\t\\n\")\n",
    "print(\"A continuacion se presenta el menu de operaciones: \\n\")\n",
    "print(\"1-Suma(a+b) \\n 2-Resta(a-b) \\n 3-Multiplicacion(a*b) \\n 4-Division(a/b) \\n 5-Potencia(a**b) \\n 6-Salir\")"
   ]
  },
  {
   "cell_type": "code",
   "execution_count": 9,
   "metadata": {},
   "outputs": [
    {
     "name": "stdout",
     "output_type": "stream",
     "text": [
      "Introduzca un número operacional(a):5\n",
      "Indique el otro número operacional(b): 6\n",
      "\n",
      "\tNúmero correspondiente a la operacion a realizar: 2\n",
      "\n",
      "\tResultado: -1\n",
      "\tSi no desea realizar otra operacion pulse 6, de lo contrario oprima la operacion a realizar: 7\n",
      "Introduzca un número operacional(a):2\n",
      "Indique el otro número operacional(b): 3\n",
      "\n",
      "\tNúmero correspondiente a la operacion a realizar: 4\n",
      "\n",
      "\tResultado: 0.6666666666666666\n",
      "\tSi no desea realizar otra operacion pulse 6, de lo contrario oprima la operacion a realizar: 6\n"
     ]
    }
   ],
   "source": [
    "while op != 6:\n",
    "    a = int(input(\"Introduzca un número operacional(a):\" ))\n",
    "    b = int(input(\"Indique el otro número operacional(b): \"))\n",
    "    op= int(input(\"\\n\\tNúmero correspondiente a la operacion a realizar: \" ))\n",
    "    if op==1:\n",
    "       res=a+b\n",
    "       print(\"\\nResultado:\", res)\n",
    "       op=int(input(\"\\tSi no desea realizar otra operacion pulse 6, de lo contrario oprima la operacion a realizar: \"))\n",
    "    if op==2:\n",
    "       res=a-b\n",
    "       print(\"\\n\\tResultado:\", res)\n",
    "       op=int(input(\"\\tSi no desea realizar otra operacion pulse 6, de lo contrario oprima la operacion a realizar: \"))\n",
    "    if op==3:\n",
    "       res=a*b\n",
    "       print(\"\\n\\tResultado:\", res)\n",
    "       op=int(input(\"\\tSi no desea realizar otra operacion pulse 6, de lo contrario oprima la operacion a realizar: \"))\n",
    "    if op==4:\n",
    "       res=a/b\n",
    "       print(\"\\n\\tResultado:\", res)\n",
    "       op=int(input(\"\\tSi no desea realizar otra operacion pulse 6, de lo contrario oprima la operacion a realizar: \"))\n",
    "    if op==5:\n",
    "       res=a**b\n",
    "       print(\"\\n\\tResultado:\", res)\n",
    "       op=int(input(\"\\tSi no desea realizar otra operacion pulse 6, de lo contrario oprima la operacion a realizar: \"))"
   ]
  },
  {
   "cell_type": "code",
   "execution_count": 11,
   "metadata": {},
   "outputs": [
    {
     "name": "stdout",
     "output_type": "stream",
     "text": [
      "3\n",
      "90\n"
     ]
    }
   ],
   "source": [
    "'>>>>>>>Ejercicio 3<<<<<<<<'\n",
    "a=[ ]\n",
    "i=0\n",
    "while i<30:\n",
    "    a.append(3*i+3)\n",
    "    i= i+1\n",
    "print(a[0])\n",
    "print(a[29])"
   ]
  },
  {
   "cell_type": "code",
   "execution_count": 12,
   "metadata": {},
   "outputs": [
    {
     "name": "stdout",
     "output_type": "stream",
     "text": [
      "1395\n"
     ]
    }
   ],
   "source": [
    "def suma(lista):\n",
    "    sum=0\n",
    "    for number in lista:\n",
    "        sum= sum + number\n",
    "    print(sum)\n",
    "\n",
    "suma(a)\n"
   ]
  },
  {
   "cell_type": "code",
   "execution_count": 13,
   "metadata": {},
   "outputs": [
    {
     "name": "stdout",
     "output_type": "stream",
     "text": [
      "Ingrese el numero a verificar si pertenece a los números pares o impares: 3\n"
     ]
    }
   ],
   "source": [
    "'>>>>>>Ejercicio 4<<<<<<<'\n",
    "number= int(input(\"Ingrese el numero a verificar si pertenece a los números pares o impares: \"))"
   ]
  },
  {
   "cell_type": "code",
   "execution_count": 14,
   "metadata": {},
   "outputs": [
    {
     "name": "stdout",
     "output_type": "stream",
     "text": [
      "3 pertenece a los números impares\n"
     ]
    }
   ],
   "source": [
    "if number % 2 == 0:\n",
    "    print(number, \"pertenece a los números pares\")\n",
    "else:\n",
    "    print(number,\"pertenece a los números impares\")"
   ]
  },
  {
   "cell_type": "code",
   "execution_count": 3,
   "metadata": {},
   "outputs": [
    {
     "name": "stdout",
     "output_type": "stream",
     "text": [
      "Ingrese el numero a verificar si pertenece a los números primos: 2017\n"
     ]
    }
   ],
   "source": [
    "number= int(input(\"Ingrese el numero a verificar si pertenece a los números primos: \"))"
   ]
  },
  {
   "cell_type": "code",
   "execution_count": 4,
   "metadata": {},
   "outputs": [
    {
     "name": "stdout",
     "output_type": "stream",
     "text": [
      "2017 Pertenece a los números primos\n"
     ]
    }
   ],
   "source": [
    "raiz= number**(0.5)\n",
    "redondeo=round(raiz)\n",
    "k=0\n",
    "n=0\n",
    "while redondeo > 1:\n",
    "    k= number/redondeo\n",
    "    if k%1 == 0:\n",
    "        n=0\n",
    "        break\n",
    "    else:\n",
    "        n=1          \n",
    "    redondeo= redondeo-1\n",
    "\n",
    "if n==0:\n",
    "    print(number,\"No es un número primo\")\n",
    "else:\n",
    "    print(number,\"Pertenece a los números primos\")"
   ]
  },
  {
   "cell_type": "code",
   "execution_count": 5,
   "metadata": {},
   "outputs": [
    {
     "name": "stdout",
     "output_type": "stream",
     "text": [
      "\n",
      "\t\t\tMenu \n",
      "\n",
      "\t1-Suma(a+b) \n",
      "\t2-Resta(a-b) \n",
      "\t3-Multiplicacion(a*n) \n",
      "\t4-Division(a/b) \n",
      "\t5-Potencia(a**b) \n",
      "\t6-Salir\n"
     ]
    }
   ],
   "source": [
    "'>>>>>>Ejercicio 5<<<<<<<<<'\n",
    "import math as m\n",
    "a=0\n",
    "b=0\n",
    "op=0\n",
    "print(\"\\n\\t\\t\\tMenu \")\n",
    "print(\"\\n\\t1-Suma(a+b) \\n\\t2-Resta(a-b) \\n\\t3-Multiplicacion(a*n) \\n\\t4-Division(a/b) \\n\\t5-Potencia(a**b) \\n\\t6-Salir\")"
   ]
  },
  {
   "cell_type": "code",
   "execution_count": 1,
   "metadata": {},
   "outputs": [],
   "source": [
    "def suma(a,b):\n",
    "    res= a+b\n",
    "    print(\"\\n\\tResultado:\" ,res)\n",
    "def resta(a,b):\n",
    "    res= a-b\n",
    "    print(\"\\n\\tResultado:\" ,res)\n",
    "def multiplicacion(a,b):\n",
    "    res= a*b\n",
    "    print(\"\\n\\tResultado:\" ,res)\n",
    "def division(a,b):\n",
    "    res= a/b\n",
    "    print(\"\\n\\tResultado:\" ,res)\n",
    "def potencia(a,b):\n",
    "    res= m.pow(a,b)\n",
    "    print(\"\\n\\tResultado:\" ,res)"
   ]
  },
  {
   "cell_type": "code",
   "execution_count": 2,
   "metadata": {},
   "outputs": [
    {
     "name": "stdout",
     "output_type": "stream",
     "text": [
      "\n",
      "\t\tIndique la operacion a realizar: 3\n"
     ]
    }
   ],
   "source": [
    "op=int(input(\"\\n\\t\\tIndique la operacion a realizar: \"))"
   ]
  },
  {
   "cell_type": "code",
   "execution_count": 3,
   "metadata": {},
   "outputs": [
    {
     "name": "stdout",
     "output_type": "stream",
     "text": [
      "\tIngrese el número a operar(a): 7\n",
      "\tIngrese el otro número operacional(b): 8\n",
      "\n",
      "\tResultado: 56\n",
      "\n",
      "\tOperacion valida, si desea realizar otra operacion indique el número de operacion \n",
      "\tcorrespondiente, de lo contrario pulsar 6: 3\n",
      "\tIngrese el número a operar(a): 2\n",
      "\tIngrese el otro número operacional(b): 3\n",
      "\n",
      "\tResultado: 6\n",
      "\n",
      "\tOperacion valida, si desea realizar otra operacion indique el número de operacion \n",
      "\tcorrespondiente, de lo contrario pulsar 6: 6\n"
     ]
    }
   ],
   "source": [
    "while op != 6:\n",
    "  a=int(input(\"\\tIngrese el número a operar(a): \"))\n",
    "  b=int(input(\"\\tIngrese el otro número operacional(b): \"))\n",
    "  if op==1:\n",
    "    suma(a,b)\n",
    "  if op==2:\n",
    "    resta(a,b)\n",
    "  if op==3:\n",
    "    multiplicacion(a,b)\n",
    "  if op==4:\n",
    "    division(a,b)\n",
    "  if op==5:\n",
    "    potencia(a,b)\n",
    "  if op==1 or op==2 or op==3 or op==4 or op==5:\n",
    "    op=int(input(\"\\n\\tOperacion valida, si desea realizar otra operacion indique el número de operacion \\n\\tcorrespondiente, de lo contrario pulsar 6: \"))\n",
    "  else:\n",
    "    op=int(input(\"\\tIngrese un número de operacion valido, si desea salir pulse 6: \")) "
   ]
  },
  {
   "cell_type": "code",
   "execution_count": null,
   "metadata": {},
   "outputs": [],
   "source": []
  }
 ],
 "metadata": {
  "kernelspec": {
   "display_name": "Python 3",
   "language": "python",
   "name": "python3"
  },
  "language_info": {
   "codemirror_mode": {
    "name": "ipython",
    "version": 3
   },
   "file_extension": ".py",
   "mimetype": "text/x-python",
   "name": "python",
   "nbconvert_exporter": "python",
   "pygments_lexer": "ipython3",
   "version": "3.8.3"
  }
 },
 "nbformat": 4,
 "nbformat_minor": 4
}
